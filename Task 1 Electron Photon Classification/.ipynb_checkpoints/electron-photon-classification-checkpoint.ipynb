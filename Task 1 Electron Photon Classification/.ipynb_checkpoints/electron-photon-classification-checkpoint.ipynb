{
 "cells": [
  {
   "cell_type": "markdown",
   "metadata": {},
   "source": [
    "# **Common Task 1: Electron/photon classification (TensorFlow)**"
   ]
  },
  {
   "cell_type": "code",
   "execution_count": 5,
   "metadata": {
    "execution": {
     "iopub.execute_input": "2023-03-28T16:01:06.893256Z",
     "iopub.status.busy": "2023-03-28T16:01:06.892849Z",
     "iopub.status.idle": "2023-03-28T16:01:27.769368Z",
     "shell.execute_reply": "2023-03-28T16:01:27.768475Z",
     "shell.execute_reply.started": "2023-03-28T16:01:06.893220Z"
    }
   },
   "outputs": [],
   "source": [
    "# I need to downscale tensorflow to 2.9.1 as i was using TPU on kaggle\n",
    "from IPython.display import clear_output\n",
    "!pip install -q /lib/wheels/tensorflow-2.9.1-cp38-cp38-linux_x86_64.whl\n",
    "!pip install scikit-learn\n",
    "clear_output()"
   ]
  },
  {
   "cell_type": "code",
   "execution_count": null,
   "metadata": {
    "_cell_guid": "b1076dfc-b9ad-4769-8c92-a6c4dae69d19",
    "_uuid": "8f2839f25d086af736a60e9eeb907d3b93b6e0e5"
   },
   "outputs": [],
   "source": [
    "# Import necessary packages\n",
    "import tensorflow as tf\n",
    "import numpy as np\n",
    "import matplotlib.pyplot as plt\n",
    "import h5py\n",
    "import urllib\n",
    "import math"
   ]
  },
  {
   "cell_type": "code",
   "execution_count": null,
   "metadata": {},
   "outputs": [],
   "source": [
    "# initialize TPU\n",
    "print('TensorFlow Version:', tf.__version__)\n",
    "\n",
    "try:\n",
    "    tpu = tf.distribute.cluster_resolver.TPUClusterResolver.connect(tpu=\"local\")\n",
    "    strategy = tf.distribute.TPUStrategy(tpu)\n",
    "\n",
    "except Exception as e:\n",
    "    print(e)\n",
    "    strategy = tf.distribute.get_strategy()"
   ]
  },
  {
   "cell_type": "code",
   "execution_count": 8,
   "metadata": {
    "execution": {
     "iopub.execute_input": "2023-03-28T16:02:17.040838Z",
     "iopub.status.busy": "2023-03-28T16:02:17.040576Z",
     "iopub.status.idle": "2023-03-28T16:02:35.634633Z",
     "shell.execute_reply": "2023-03-28T16:02:35.633381Z",
     "shell.execute_reply.started": "2023-03-28T16:02:17.040813Z"
    }
   },
   "outputs": [],
   "source": [
    "# Downloading Dataset\n",
    "def download_file(url, filename):\n",
    "    urllib.request.urlretrieve(url, filename)\n",
    "\n",
    "photon_url = 'https://cernbox.cern.ch/remote.php/dav/public-files/AtBT8y4MiQYFcgc/SinglePhotonPt50_IMGCROPS_n249k_RHv1.hdf5'\n",
    "electron_url = 'https://cernbox.cern.ch/remote.php/dav/public-files/FbXw3V4XNyYB3oA/SingleElectronPt50_IMGCROPS_n249k_RHv1.hdf5'\n",
    "\n",
    "download_file(photon_url, 'photon.hdf5')\n",
    "download_file(electron_url, 'electron.hdf5')"
   ]
  },
  {
   "cell_type": "markdown",
   "metadata": {},
   "source": [
    "## **Load the Data**"
   ]
  },
  {
   "cell_type": "code",
   "execution_count": 9,
   "metadata": {
    "execution": {
     "iopub.execute_input": "2023-03-28T16:02:38.839483Z",
     "iopub.status.busy": "2023-03-28T16:02:38.838353Z",
     "iopub.status.idle": "2023-03-28T16:02:38.879564Z",
     "shell.execute_reply": "2023-03-28T16:02:38.878432Z",
     "shell.execute_reply.started": "2023-03-28T16:02:38.839442Z"
    }
   },
   "outputs": [],
   "source": [
    "# Define the filenames and batch size\n",
    "electrons_filename = 'electron.hdf5'\n",
    "photons_filename = 'photon.hdf5'\n",
    "batch_size = 64\n",
    "num_features = 32\n",
    "\n",
    "# Define a generator function to load and process data in batches\n",
    "def batch_generator(electrons_filename, photons_filename, batch_size):\n",
    "    # Open the HDF5 files and get the number of samples\n",
    "    electrons_file = h5py.File(electrons_filename, 'r')\n",
    "    photons_file = h5py.File(photons_filename, 'r')\n",
    "    num_electrons = electrons_file['X'].shape[0]\n",
    "    num_photons = photons_file['X'].shape[0]\n",
    "\n",
    "    # Calculate the number of batches per epoch\n",
    "    num_batches = max(num_electrons, num_photons) // batch_size\n",
    "\n",
    "    # Loop over the data and yield batches\n",
    "    for i in range(num_batches):\n",
    "        # Load a batch of electrons and photons\n",
    "        electrons_x = electrons_file['X'][i*batch_size:(i+1)*batch_size]\n",
    "        electrons_y = electrons_file['y'][i*batch_size:(i+1)*batch_size]\n",
    "\n",
    "        photons_x = photons_file['X'][i*batch_size:(i+1)*batch_size]\n",
    "        photons_y = photons_file['y'][i*batch_size:(i+1)*batch_size]\n",
    "\n",
    "        # Combine the data\n",
    "        batch_x = np.concatenate([electrons_x, photons_x])\n",
    "        batch_y = np.concatenate([electrons_y, photons_y])\n",
    "        \n",
    "        # expand dims of batch_y\n",
    "        batch_y = np.expand_dims(batch_y, axis=1)\n",
    "        \n",
    "        # shuffle it\n",
    "        perm = np.random.permutation(len(batch_x))\n",
    "        batch_x = batch_x[perm]\n",
    "        batch_y = batch_y[perm]\n",
    "        \n",
    "        # Convert the data to TensorFlow tensors and yield it\n",
    "        yield tf.convert_to_tensor(batch_x, dtype=tf.float32), tf.convert_to_tensor(batch_y, dtype=tf.int32)\n",
    "\n",
    "    # Close the HDF5 files\n",
    "    electrons_file.close()\n",
    "    photons_file.close()\n",
    "\n",
    "# Create a TensorFlow Dataset from the generator function\n",
    "batched_dataset = tf.data.Dataset.from_generator(\n",
    "    lambda: batch_generator(electrons_filename, photons_filename, batch_size//2),\n",
    "    output_types=(tf.float32, tf.int32),\n",
    "    output_shapes=((batch_size, num_features, num_features, 2), (batch_size, 1))\n",
    ").repeat()"
   ]
  },
  {
   "cell_type": "code",
   "execution_count": 10,
   "metadata": {
    "execution": {
     "iopub.execute_input": "2023-03-28T16:02:50.370792Z",
     "iopub.status.busy": "2023-03-28T16:02:50.369868Z",
     "iopub.status.idle": "2023-03-28T16:02:50.380246Z",
     "shell.execute_reply": "2023-03-28T16:02:50.379259Z",
     "shell.execute_reply.started": "2023-03-28T16:02:50.370751Z"
    }
   },
   "outputs": [],
   "source": [
    "train_frac = 0.032 # using only 0.032% of the entire dataset\n",
    "\n",
    "# calculating dataset size\n",
    "dataset_size = math.ceil((h5py.File(electrons_filename, 'r')['X'].shape[0]*2)/batch_size)\n",
    "\n",
    "# Define the size of the training and testing datasets\n",
    "train_size = math.ceil(dataset_size * train_frac)\n",
    "test_size = math.floor(dataset_size * (1 - train_frac))\n",
    "\n",
    "train_dataset = batched_dataset.take(train_size)\n",
    "test_dataset = batched_dataset.skip(train_size).take(test_size)"
   ]
  },
  {
   "cell_type": "markdown",
   "metadata": {},
   "source": [
    "## **The Model Architecture**\n",
    "\n",
    "<center><img src='https://miro.medium.com/v2/resize:fit:1400/1*uAeANQIOQPqWZnnuH-VEyw.jpeg' width=700px></center>\n",
    "\n",
    "\n",
    "A convolutional neural network (CNN) is a type of deep learning algorithm that is particularly well-suited for image recognition and processing tasks. It is made up of multiple layers, including convolutional layers, pooling layers, and fully connected layers. Convolutional layers apply filters to the input data and produce feature maps that capture the spatial information of the data. Pooling layers reduce the dimensionality of the feature maps and introduce some invariance to translation, rotation, and scaling. Fully connected layers perform classification based on the extracted features.\n",
    "\n",
    "Some examples of CNN architectures are LeNet, AlexNet, VGG, ResNet, and Inception.\n",
    "\n",
    "I will also like to add that I have created a detailed youtube video on how CNN works: https://youtu.be/H1ZC9COwtMs"
   ]
  },
  {
   "cell_type": "code",
   "execution_count": 11,
   "metadata": {
    "execution": {
     "iopub.execute_input": "2023-03-28T16:02:51.544529Z",
     "iopub.status.busy": "2023-03-28T16:02:51.543633Z",
     "iopub.status.idle": "2023-03-28T16:02:51.886222Z",
     "shell.execute_reply": "2023-03-28T16:02:51.884867Z",
     "shell.execute_reply.started": "2023-03-28T16:02:51.544488Z"
    }
   },
   "outputs": [],
   "source": [
    "# creating model\n",
    "\n",
    "with strategy.scope():\n",
    "\n",
    "    model = tf.keras.Sequential([\n",
    "        tf.keras.layers.Conv2D(filters=32, kernel_size=(3,3), activation='relu'),\n",
    "        tf.keras.layers.Conv2D(filters=64, kernel_size=(3,3), activation='relu'),\n",
    "        tf.keras.layers.MaxPooling2D((2,2)),\n",
    "        tf.keras.layers.Conv2D(filters=64, kernel_size=(3,3), activation='relu'),\n",
    "        tf.keras.layers.MaxPooling2D((2,2)),\n",
    "        tf.keras.layers.Conv2D(filters=64, kernel_size=(3,3), activation='relu'),\n",
    "        tf.keras.layers.Conv2D(filters=64, kernel_size=(3,3), activation='relu'),\n",
    "        tf.keras.layers.MaxPooling2D((2,2)),\n",
    "        tf.keras.layers.Flatten(),\n",
    "        tf.keras.layers.Dense(units=64, activation='relu'),\n",
    "        tf.keras.layers.Dense(units=1, activation='sigmoid')\n",
    "    ])\n",
    "\n",
    "    model.compile(\n",
    "        optimizer=tf.keras.optimizers.Adam(),\n",
    "        loss=tf.keras.losses.BinaryCrossentropy(),\n",
    "        metrics=['accuracy', tf.keras.metrics.AUC(curve='ROC')]\n",
    "    )"
   ]
  },
  {
   "cell_type": "code",
   "execution_count": 13,
   "metadata": {
    "execution": {
     "iopub.execute_input": "2023-03-28T16:06:09.732038Z",
     "iopub.status.busy": "2023-03-28T16:06:09.731253Z",
     "iopub.status.idle": "2023-03-28T16:19:24.339895Z",
     "shell.execute_reply": "2023-03-28T16:19:24.338394Z",
     "shell.execute_reply.started": "2023-03-28T16:06:09.731993Z"
    }
   },
   "outputs": [
    {
     "name": "stdout",
     "output_type": "stream",
     "text": [
      "Epoch 1/10\n",
      "250/250 [==============================] - 79s 317ms/step - loss: 0.6541 - accuracy: 0.6138 - auc: 0.6511\n",
      "Epoch 2/10\n",
      "250/250 [==============================] - 79s 314ms/step - loss: 0.6446 - accuracy: 0.6269 - auc: 0.6686\n",
      "Epoch 3/10\n",
      "250/250 [==============================] - 79s 316ms/step - loss: 0.6326 - accuracy: 0.6436 - auc: 0.6878\n",
      "Epoch 4/10\n",
      "250/250 [==============================] - 79s 316ms/step - loss: 0.6168 - accuracy: 0.6635 - auc: 0.7113\n",
      "Epoch 5/10\n",
      "250/250 [==============================] - 79s 316ms/step - loss: 0.6000 - accuracy: 0.6836 - auc: 0.7333\n",
      "Epoch 6/10\n",
      "250/250 [==============================] - 79s 315ms/step - loss: 0.5811 - accuracy: 0.7036 - auc: 0.7559\n",
      "Epoch 7/10\n",
      "250/250 [==============================] - 79s 317ms/step - loss: 0.5572 - accuracy: 0.7224 - auc: 0.7817\n",
      "Epoch 8/10\n",
      "250/250 [==============================] - 79s 314ms/step - loss: 0.5370 - accuracy: 0.7396 - auc: 0.8009\n",
      "Epoch 9/10\n",
      "250/250 [==============================] - 79s 317ms/step - loss: 0.5141 - accuracy: 0.7538 - auc: 0.8213\n",
      "Epoch 10/10\n",
      "250/250 [==============================] - 79s 317ms/step - loss: 0.4837 - accuracy: 0.7742 - auc: 0.8453\n"
     ]
    }
   ],
   "source": [
    "history = model.fit(\n",
    "    train_dataset,\n",
    "    epochs=10\n",
    ")"
   ]
  },
  {
   "cell_type": "code",
   "execution_count": 15,
   "metadata": {
    "execution": {
     "iopub.execute_input": "2023-03-28T16:21:14.395750Z",
     "iopub.status.busy": "2023-03-28T16:21:14.395054Z",
     "iopub.status.idle": "2023-03-28T16:21:14.635318Z",
     "shell.execute_reply": "2023-03-28T16:21:14.634162Z",
     "shell.execute_reply.started": "2023-03-28T16:21:14.395717Z"
    }
   },
   "outputs": [
    {
     "data": {
      "image/png": "[encoded data removed]",
      "text/plain": [
       "<Figure size 640x480 with 1 Axes>"
      ]
     },
     "metadata": {},
     "output_type": "display_data"
    }
   ],
   "source": [
    "plt.title('Model Accuracy')\n",
    "plt.plot(history.history['accuracy'], label='accuracy')\n",
    "plt.plot(history.history['auc'], label='ROC-AUC')\n",
    "plt.ylabel('Accuracy')\n",
    "plt.xlabel('Epoch')\n",
    "plt.legend()\n",
    "plt.show()"
   ]
  },
  {
   "cell_type": "markdown",
   "metadata": {},
   "source": [
    "# **ROC AUC SCORE: 0.8453**"
   ]
  }
 ],
 "metadata": {
  "kernelspec": {
   "display_name": "Python 3 (ipykernel)",
   "language": "python",
   "name": "python3"
  },
  "language_info": {
   "codemirror_mode": {
    "name": "ipython",
    "version": 3
   },
   "file_extension": ".py",
   "mimetype": "text/x-python",
   "name": "python",
   "nbconvert_exporter": "python",
   "pygments_lexer": "ipython3",
   "version": "3.9.7"
  }
 },
 "nbformat": 4,
 "nbformat_minor": 4
}
