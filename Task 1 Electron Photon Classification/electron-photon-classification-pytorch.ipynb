{
 "cells": [
  {
   "cell_type": "markdown",
   "metadata": {},
   "source": [
    "# **Common Task 1: Electron/photon classification (PyTorch)**"
   ]
  },
  {
   "cell_type": "code",
   "execution_count": 1,
   "metadata": {
    "_cell_guid": "b1076dfc-b9ad-4769-8c92-a6c4dae69d19",
    "_uuid": "8f2839f25d086af736a60e9eeb907d3b93b6e0e5",
    "execution": {
     "iopub.execute_input": "2023-03-29T16:39:34.548375Z",
     "iopub.status.busy": "2023-03-29T16:39:34.547449Z",
     "iopub.status.idle": "2023-03-29T16:39:45.949204Z",
     "shell.execute_reply": "2023-03-29T16:39:45.947911Z",
     "shell.execute_reply.started": "2023-03-29T16:39:34.548332Z"
    }
   },
   "outputs": [
    {
     "name": "stdout",
     "output_type": "stream",
     "text": [
      "\u001b[33mWARNING: Running pip as the 'root' user can result in broken permissions and conflicting behaviour with the system package manager. It is recommended to use a virtual environment instead: https://pip.pypa.io/warnings/venv\u001b[0m\u001b[33m\n",
      "\u001b[0m"
     ]
    }
   ],
   "source": [
    "!pip install Lightning -q"
   ]
  },
  {
   "cell_type": "code",
   "execution_count": 2,
   "metadata": {
    "execution": {
     "iopub.execute_input": "2023-03-29T16:39:45.957745Z",
     "iopub.status.busy": "2023-03-29T16:39:45.955015Z",
     "iopub.status.idle": "2023-03-29T16:39:59.028076Z",
     "shell.execute_reply": "2023-03-29T16:39:59.026908Z",
     "shell.execute_reply.started": "2023-03-29T16:39:45.957703Z"
    }
   },
   "outputs": [],
   "source": [
    "# Import necessary packages\n",
    "import torch\n",
    "import torch.nn as nn\n",
    "import torch.nn.functional as F\n",
    "import numpy as np\n",
    "import matplotlib.pyplot as plt\n",
    "import lightning.pytorch as pl\n",
    "import h5py\n",
    "import urllib\n",
    "import math\n",
    "from tqdm.auto import tqdm"
   ]
  },
  {
   "cell_type": "code",
   "execution_count": 3,
   "metadata": {
    "execution": {
     "iopub.execute_input": "2023-03-29T16:39:59.031037Z",
     "iopub.status.busy": "2023-03-29T16:39:59.030726Z",
     "iopub.status.idle": "2023-03-29T16:39:59.037262Z",
     "shell.execute_reply": "2023-03-29T16:39:59.035974Z",
     "shell.execute_reply.started": "2023-03-29T16:39:59.031007Z"
    }
   },
   "outputs": [],
   "source": [
    "DATA_DIR = '/kaggle/input/electron-vs-photons-ml4sci'"
   ]
  },
  {
   "cell_type": "code",
   "execution_count": 4,
   "metadata": {
    "execution": {
     "iopub.execute_input": "2023-03-29T16:39:59.041004Z",
     "iopub.status.busy": "2023-03-29T16:39:59.040349Z",
     "iopub.status.idle": "2023-03-29T16:39:59.070059Z",
     "shell.execute_reply": "2023-03-29T16:39:59.068881Z",
     "shell.execute_reply.started": "2023-03-29T16:39:59.040965Z"
    }
   },
   "outputs": [],
   "source": [
    "# Define the filenames and batch size\n",
    "electrons_filename = f'{DATA_DIR}/SingleElectronPt50_IMGCROPS_n249k_RHv1.hdf5'\n",
    "photons_filename = f'{DATA_DIR}/SinglePhotonPt50_IMGCROPS_n249k_RHv1.hdf5'\n",
    "batch_size = 64\n",
    "num_features = 32\n",
    "\n",
    "    \n",
    "class Dataset(torch.utils.data.Dataset):\n",
    "    def __init__(self, electrons_filename, photons_filename, batch_size, frac=0.032):\n",
    "        self.batch_size = batch_size\n",
    "        self.frac = frac\n",
    "        self.electrons_file = h5py.File(electrons_filename, 'r')\n",
    "        self.photons_file = h5py.File(photons_filename, 'r')\n",
    "        num_electrons = self.electrons_file['X'].shape[0]\n",
    "        num_photons = self.photons_file['X'].shape[0]\n",
    "        self.num_batches = max(num_electrons, num_photons) // self.batch_size\n",
    "\n",
    "    def __len__(self):\n",
    "        dataset_size = math.ceil((self.electrons_file['X'].shape[0])/self.batch_size)\n",
    "        train_size = math.ceil(dataset_size * self.frac)\n",
    "        return train_size\n",
    "\n",
    "    def __getitem__(self, idx):\n",
    "        # Load a batch of electrons and photons\n",
    "        electrons_x = self.electrons_file['X'][idx*self.batch_size:(idx+1)*self.batch_size]\n",
    "        electrons_y = self.electrons_file['y'][idx*self.batch_size:(idx+1)*self.batch_size]\n",
    "\n",
    "        photons_x = self.photons_file['X'][idx*self.batch_size:(idx+1)*self.batch_size]\n",
    "        photons_y = self.photons_file['y'][idx*self.batch_size:(idx+1)*self.batch_size]\n",
    "        \n",
    "        # Combine the data\n",
    "        batch_x = np.concatenate([electrons_x, photons_x])\n",
    "        batch_y = np.concatenate([electrons_y, photons_y])\n",
    "        \n",
    "        # expand dims of batch_y\n",
    "        batch_y = np.expand_dims(batch_y, axis=1)\n",
    "        \n",
    "        # shuffle it\n",
    "        perm = np.random.permutation(len(batch_x))\n",
    "        batch_x = batch_x[perm]\n",
    "        batch_y = batch_y[perm]\n",
    "        \n",
    "        # Convert the data to pytorch tensors and yield it\n",
    "        return torch.tensor(batch_x, dtype=torch.float32), torch.tensor(batch_y, dtype=torch.int32)\n",
    "    \n",
    "    \n",
    "train_dataset = Dataset(electrons_filename, photons_filename, batch_size//2)\n",
    "train_loader = torch.utils.data.DataLoader(train_dataset, shuffle=True)"
   ]
  },
  {
   "cell_type": "code",
   "execution_count": 5,
   "metadata": {
    "execution": {
     "iopub.execute_input": "2023-03-29T16:39:59.074521Z",
     "iopub.status.busy": "2023-03-29T16:39:59.074240Z",
     "iopub.status.idle": "2023-03-29T16:39:59.086400Z",
     "shell.execute_reply": "2023-03-29T16:39:59.085314Z",
     "shell.execute_reply.started": "2023-03-29T16:39:59.074495Z"
    }
   },
   "outputs": [],
   "source": [
    "class Model(pl.LightningModule):\n",
    "    \n",
    "    def __init__(self):\n",
    "        super().__init__()\n",
    "        self.classifier = nn.Sequential(\n",
    "            nn.Conv2d(2, 32, kernel_size=3, padding=1),\n",
    "            nn.ReLU(),\n",
    "            nn.Conv2d(32, 64, kernel_size=3, padding=1),\n",
    "            nn.ReLU(),\n",
    "            nn.MaxPool2d(2, 2),\n",
    "            nn.Conv2d(64, 64, kernel_size=3, padding=1),\n",
    "            nn.ReLU(),\n",
    "            nn.MaxPool2d(2, 2),\n",
    "            nn.Conv2d(64, 64, kernel_size=3, padding=1),\n",
    "            nn.ReLU(),\n",
    "            nn.Conv2d(64, 64, kernel_size=3, padding=1),\n",
    "            nn.ReLU(),\n",
    "            nn.MaxPool2d(2, 2),\n",
    "            nn.Flatten(),\n",
    "            nn.Linear(1024, 64),\n",
    "            nn.ReLU(),\n",
    "            nn.Linear(64, 2),\n",
    "        )\n",
    "    \n",
    "    def forward(self, x):\n",
    "        return self.classifier(x)\n",
    "    \n",
    "    def training_step(self, batch, batch_idx):\n",
    "        x, y = batch\n",
    "        x = x.squeeze(0).permute(0, 3, 1, 2)\n",
    "        y = y.squeeze(0).squeeze(-1).type(torch.long)\n",
    "        y_hat = self(x)\n",
    "        loss = F.cross_entropy(y_hat, y)\n",
    "        return loss\n",
    "    \n",
    "    def configure_optimizers(self):\n",
    "        return torch.optim.Adam(self.parameters())"
   ]
  },
  {
   "cell_type": "code",
   "execution_count": 6,
   "metadata": {
    "execution": {
     "iopub.execute_input": "2023-03-29T16:39:59.090237Z",
     "iopub.status.busy": "2023-03-29T16:39:59.089897Z",
     "iopub.status.idle": "2023-03-29T16:53:32.880371Z",
     "shell.execute_reply": "2023-03-29T16:53:32.879381Z",
     "shell.execute_reply.started": "2023-03-29T16:39:59.090210Z"
    }
   },
   "outputs": [
    {
     "name": "stderr",
     "output_type": "stream",
     "text": [
      "INFO: GPU available: True (cuda), used: True\n",
      "INFO: TPU available: False, using: 0 TPU cores\n",
      "INFO: IPU available: False, using: 0 IPUs\n",
      "INFO: HPU available: False, using: 0 HPUs\n",
      "INFO: LOCAL_RANK: 0 - CUDA_VISIBLE_DEVICES: [0]\n",
      "INFO: \n",
      "  | Name       | Type       | Params\n",
      "------------------------------------------\n",
      "0 | classifier | Sequential | 195 K \n",
      "------------------------------------------\n",
      "195 K     Trainable params\n",
      "0         Non-trainable params\n",
      "195 K     Total params\n",
      "0.782     Total estimated model params size (MB)\n"
     ]
    },
    {
     "data": {
      "application/vnd.jupyter.widget-view+json": {
       "model_id": "35ee7c3f5884445290cd7176d9c97708",
       "version_major": 2,
       "version_minor": 0
      },
      "text/plain": [
       "Training: 0it [00:00, ?it/s]"
      ]
     },
     "metadata": {},
     "output_type": "display_data"
    },
    {
     "name": "stderr",
     "output_type": "stream",
     "text": [
      "INFO: `Trainer.fit` stopped: `max_epochs=10` reached.\n"
     ]
    }
   ],
   "source": [
    "trainer = pl.Trainer(max_epochs=10, accelerator=\"gpu\")\n",
    "model = Model()\n",
    "\n",
    "trainer.fit(model, train_dataloaders=train_loader)"
   ]
  }
 ],
 "metadata": {
  "kernelspec": {
   "display_name": "Python 3 (ipykernel)",
   "language": "python",
   "name": "python3"
  },
  "language_info": {
   "codemirror_mode": {
    "name": "ipython",
    "version": 3
   },
   "file_extension": ".py",
   "mimetype": "text/x-python",
   "name": "python",
   "nbconvert_exporter": "python",
   "pygments_lexer": "ipython3",
   "version": "3.9.7"
  }
 },
 "nbformat": 4,
 "nbformat_minor": 4
}
